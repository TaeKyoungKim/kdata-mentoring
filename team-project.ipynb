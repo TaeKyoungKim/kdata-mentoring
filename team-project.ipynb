{
 "cells": [
  {
   "cell_type": "markdown",
   "metadata": {},
   "source": [
    "# Team Project 제언"
   ]
  },
  {
   "cell_type": "markdown",
   "metadata": {},
   "source": [
    "## 성공\n",
    "- 스토리와 호소력이 있는 장표 + 발표력\n",
    "- 모델의 실세계 해석력\n",
    "- [신선함, 독창성, 발전성, 유용성] 중 적어도 하나\n",
    "- 공헌\n",
    "\n",
    "## 실패\n",
    "- 억지 호소\n",
    "- 모델로 끝나고 해석은 없다\n",
    "\n",
    "## 이런 접근은 매력적\n",
    "- 우리회사에 적용할 만한 가치를 이끌어 냈다!\n", 
    "- 구엉이 있는 부분을 채웠다!\n",
    "- [공공, 기업, 자영업 등]에 이런 정보가 제공되어야 한다\n",
    "\n",
    "## 결과를 도출할 특별한 확신이 없다면 지양\n",
    "- 주가, 날씨, 물가, 경제전망 - 슈퍼컴퓨터도 못 풀고 있는 주제들\n",
    "- 사회적 이슈가 큰 주제\n",
    "\n",
    "## 주제선정\n",
    "- 데이터 확보의 용이성\n",
    "- [기존 주장, 기존 서비스, 응용]의  개선포인트 제시\n",
    "- 작지만 새로운 방향 제시\n",
    "\n",
    "## 리포트 구성\n",
    "- 주제\n",
    "- 데이터 수집과 Fact Finding\n",
    "- 모델\n",
    "- 응용의 과정\n",
    "- 응용의 결과와 공헌\n",
    "\n",
    "<hr>"
   ]
  },
  {
   "cell_type": "markdown",
   "metadata": {},
   "source": [
    "# 기간이 짧은 프로젝트의 모델링 전개 방향\n",
    "- Target은 2~3개의 Class\n",
    "- 가격, 수량과 같은 양적 Target 대상의 예측 모델링은 가급적 피한다\n",
    "- Regression Model은 정확도를 개선하는데 수개월이 걸릴 수도 있다\n",
    "- 주제범위가 명확한 경우 다중회귀모델의 접근은 대부분의 feature 변수들의 상관관계가 높은 경향이 있어 다중공선성을 피하기 어렵기 때문에 결과를 제시하더라도 공격을 받기 쉽다\n",
    "- 모델의 결과로 대한 원인을 제시하는 RCA모델은 현실적으로는 Decision Tree와 Random Forest이다\n",
    "- 원인의 제시 보다 예측을 더 중시한다면 Random Forest, SVM, Deep Learning으로 접근한다\n"
   ]
  },
{
   "cell_type": "code",
   "execution_count": 1,
   "metadata": {
    "collapsed": false
   },
   "outputs": [],
   "source": [
    "from IPython.nbconvert.utils.pandoc import pandoc\n",
    "from IPython.display import HTML, Javascript, display\n",
    "\n"
   ]
  }
  ],
 "metadata": {
  "kernelspec": {
   "display_name": "Python 3",
   "language": "python",
   "name": "python3"
  },
  "language_info": {
   "codemirror_mode": {
    "name": "ipython",
    "version": 3
   },
   "file_extension": ".py",
   "mimetype": "text/x-python",
   "name": "python",
   "nbconvert_exporter": "python",
   "pygments_lexer": "ipython3",
   "version": "3.4.2"
  }
 },
 "nbformat": 4,
 "nbformat_minor": 0
}
