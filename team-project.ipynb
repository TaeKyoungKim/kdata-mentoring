{
 "cells": [
  {
   "cell_type": "markdown",
   "metadata": {},
   "source": [
    "# Team Project 제언"
   ]
  },
  {
   "cell_type": "markdown",
   "metadata": {},
   "source": [
    "## 성공\n",
    "- 스토리와 신뢰의 표현 + 발표력\n",
    "- 간결한 장표(15분짜리)\n",
    "- 모델의 실세계 해석력\n",
    "- [신선함, 독창성] 중 적어도 하나\n",
    "\n",
    "## 실패\n",
    "- 억지 호소\n",
    "- 모델로 끝나고 해석은 없다\n",
    "\n",
    "## 이런 접근은 매력적\n",
    "- 우리회사에 적용할 만한 가치를 이끌어 냈다!\n", 
    "- 놓지고 있는 부분을 채웠다!\n",
    "- 국민들에게 이런 정보가 제공되어야 한다\n",
    "\n",
    "## 결과를 도출할 특별한 확신이 없다면 지양\n",
    "- 주가, 날씨, 물가, 경제전망 - 슈퍼컴퓨터도 못 풀고 있는 주제들\n",
    "- 사회적 이슈가 큰 주제 \n",
    "주제선정",
    "\n"
   ]
  },
 {
   "cell_type": "code",
   "execution_count": 1,
   "metadata": {
    "collapsed": false
   },
   "outputs": [],
   "source": [
    "from IPython.nbconvert.utils.pandoc import pandoc\n",
    "from IPython.display import HTML, Javascript, display\n",
    "\n"
   ]
  }
  ],
 "metadata": {
  "kernelspec": {
   "display_name": "Python 3",
   "language": "python",
   "name": "python3"
  },
  "language_info": {
   "codemirror_mode": {
    "name": "ipython",
    "version": 3
   },
   "file_extension": ".py",
   "mimetype": "text/x-python",
   "name": "python",
   "nbconvert_exporter": "python",
   "pygments_lexer": "ipython3",
   "version": "3.4.2"
  }
 },
 "nbformat": 4,
 "nbformat_minor": 0
}
