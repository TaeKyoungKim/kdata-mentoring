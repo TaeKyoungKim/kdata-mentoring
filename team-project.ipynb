{
 "cells": [
  {
   "cell_type": "markdown",
   "metadata": {},
   "source": [
    "# Team Project 제언"
   ]
  },
  {
   "cell_type": "markdown",
   "metadata": {},
   "source": [
    "##성공",
    "- 틈새 공략\n",
    "- 유용성\n",
    "\n",
    "##실패",
    "- 무모한 도전\n",
    
    "- 역할의 빈곳\n",
    "\n",
    "## 데이터\n",
    "- 수집 용이성\n",
    "\n"
   ]
  },
 {
   "cell_type": "code",
   "execution_count": 1,
   "metadata": {
    "collapsed": false
   },
   "outputs": [],
   "source": [
    "from IPython.nbconvert.utils.pandoc import pandoc\n",
    "from IPython.display import HTML, Javascript, display\n",
    "\n"
   ]
  }
  ],
 "metadata": {
  "kernelspec": {
   "display_name": "Python 3",
   "language": "python",
   "name": "python3"
  },
  "language_info": {
   "codemirror_mode": {
    "name": "ipython",
    "version": 3
   },
   "file_extension": ".py",
   "mimetype": "text/x-python",
   "name": "python",
   "nbconvert_exporter": "python",
   "pygments_lexer": "ipython3",
   "version": "3.4.2"
  }
 },
 "nbformat": 4,
 "nbformat_minor": 0
}
