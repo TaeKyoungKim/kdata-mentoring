{
 "cells": [
  {
   "cell_type": "code",
   "execution_count": 140,
   "metadata": {},
   "outputs": [],
   "source": [
    "import numpy as np\n",
    "arrX1 = np.array([\n",
    "[13],\n",
    "[13],\n",
    "[13],\n",
    "[1],\n",
    "[13],\n",
    "[11],\n",
    "[9],\n",
    "[11],\n",
    "[15],\n",
    "[5],\n",
    "[5],\n",
    "[12],\n",
    "[9],\n",
    "[14],\n",
    "[10],\n",
    "[16],\n",
    "[5],\n",
    "[7],\n",
    "[15],\n",
    "[19],\n",
    "[8],\n",
    "[10],\n",
    "[16],\n",
    "[14],\n",
    "[6],\n",
    "[20],\n",
    "[11],\n",
    "[4],\n",
    "[19],\n",
    "[5],\n",
    "[9],\n",
    "[4],\n",
    "[19],\n",
    "[3],\n",
    "[6],\n",
    "[9],\n",
    "[13],\n",
    "[7],\n",
    "[4],\n",
    "[15],\n",
    "[11],\n",
    "[11],\n",
    "[10],\n",
    "[10],\n",
    "[13],\n",
    "[15],\n",
    "[15],\n",
    "[16],\n",
    "[20],\n",
    "[16],\n",
    "[7],\n",
    "[5],\n",
    "[10],\n",
    "[12],\n",
    "[10],\n",
    "[7],\n",
    "[3],\n",
    "[3],\n",
    "[8],\n",
    "[9]\n",
    "])\n",
    "arrY=np.array([\n",
    "98,\n",
    "112,\n",
    "117,\n",
    "122,\n",
    "99,\n",
    "110,\n",
    "117,\n",
    "114,\n",
    "113,\n",
    "111,\n",
    "102,\n",
    "117,\n",
    "101,\n",
    "120,\n",
    "98,\n",
    "111,\n",
    "106,\n",
    "103,\n",
    "123,\n",
    "109,\n",
    "119,\n",
    "108,\n",
    "113,\n",
    "102,\n",
    "106,\n",
    "126,\n",
    "127,\n",
    "115,\n",
    "110,\n",
    "99,\n",
    "111,\n",
    "107,\n",
    "110,\n",
    "108,\n",
    "99,\n",
    "102,\n",
    "127,\n",
    "88,\n",
    "99,\n",
    "112,\n",
    "98,\n",
    "126,\n",
    "120,\n",
    "114,\n",
    "110,\n",
    "113,\n",
    "116,\n",
    "94,\n",
    "117,\n",
    "89,\n",
    "101,\n",
    "95,\n",
    "125,\n",
    "119,\n",
    "130,\n",
    "104,\n",
    "113,\n",
    "112,\n",
    "97,\n",
    "92\n",
    "])"
   ]
  },
  {
   "cell_type": "code",
   "execution_count": 153,
   "metadata": {},
   "outputs": [
    {
     "data": {
      "text/plain": [
       "DecisionTreeRegressor(criterion='mse', max_depth=1, max_features=None,\n",
       "           max_leaf_nodes=3, min_impurity_decrease=0.0,\n",
       "           min_impurity_split=None, min_samples_leaf=1,\n",
       "           min_samples_split=2, min_weight_fraction_leaf=0.0,\n",
       "           presort=False, random_state=None, splitter='best')"
      ]
     },
     "execution_count": 153,
     "metadata": {},
     "output_type": "execute_result"
    }
   ],
   "source": [
    "\n",
    "from sklearn.tree import DecisionTreeRegressor\n",
    "model = DecisionTreeRegressor(max_depth=1)\n",
    "model.fit(arrX1,arrY)"
   ]
  },
  {
   "cell_type": "code",
   "execution_count": 154,
   "metadata": {},
   "outputs": [],
   "source": [
    "import graphviz\n",
    "from sklearn import tree\n",
    "\n",
    "dot_data = tree.export_graphviz(model,out_file=None,feature_names=['Intake'], class_names=['Pressure'])"
   ]
  },
  {
   "cell_type": "code",
   "execution_count": 155,
   "metadata": {},
   "outputs": [
    {
     "data": {
      "text/plain": [
       "'dtr.pdf'"
      ]
     },
     "execution_count": 155,
     "metadata": {},
     "output_type": "execute_result"
    }
   ],
   "source": [
    "graph = graphviz.Source(dot_data) \n",
    "graph.render(\"dtr\")"
   ]
  },
  {
   "cell_type": "code",
   "execution_count": null,
   "metadata": {},
   "outputs": [],
   "source": []
  }
 ],
 "metadata": {
  "kernelspec": {
   "display_name": "Python 3",
   "language": "python",
   "name": "python3"
  },
  "language_info": {
   "codemirror_mode": {
    "name": "ipython",
    "version": 3
   },
   "file_extension": ".py",
   "mimetype": "text/x-python",
   "name": "python",
   "nbconvert_exporter": "python",
   "pygments_lexer": "ipython3",
   "version": "3.7.0"
  }
 },
 "nbformat": 4,
 "nbformat_minor": 2
}
